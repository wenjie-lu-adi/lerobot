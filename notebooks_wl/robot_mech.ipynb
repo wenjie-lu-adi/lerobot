{
 "cells": [
  {
   "cell_type": "code",
   "execution_count": 1,
   "metadata": {},
   "outputs": [],
   "source": [
    "import copy\n",
    "import time\n",
    "\n",
    "from lerobot.common.robot_devices.motors.dynamixel import DynamixelMotorsBus, TorqueMode\n",
    "\n",
    "\n",
    "%load_ext autoreload\n",
    "%autoreload 2"
   ]
  },
  {
   "cell_type": "code",
   "execution_count": 2,
   "metadata": {},
   "outputs": [],
   "source": [
    "leader_port = \"/dev/tty.usbmodem58760436131\"\n",
    "follower_port = \"/dev/tty.usbmodem58760433231\"\n",
    "\n",
    "leader_arm = DynamixelMotorsBus(\n",
    "    port=leader_port,\n",
    "    motors={\n",
    "        # name: (index, model)\n",
    "        \"shoulder_pan\": (1, \"xl330-m077\"),\n",
    "        \"shoulder_lift\": (2, \"xl330-m077\"),\n",
    "        \"elbow_flex\": (3, \"xl330-m077\"),\n",
    "        \"wrist_flex\": (4, \"xl330-m077\"),\n",
    "        \"wrist_roll\": (5, \"xl330-m077\"),\n",
    "        \"gripper\": (6, \"xl330-m077\"),\n",
    "\n",
    "    },\n",
    ")\n",
    "\n",
    "follower_arm = DynamixelMotorsBus(\n",
    "    port=follower_port,\n",
    "    motors={\n",
    "        # name: (index, model)\n",
    "        \"shoulder_pan\": (1, \"xl430-w250\"),\n",
    "        \"shoulder_lift\": (2, \"xl430-w250\"),\n",
    "        \"elbow_flex\": (3, \"xl330-m288\"),\n",
    "        \"wrist_flex\": (4, \"xl330-m288\"),\n",
    "        \"wrist_roll\": (5, \"xl330-m288\"),\n",
    "        \"gripper\": (6, \"xl330-m288\"),\n",
    "    },\n",
    ")\n"
   ]
  },
  {
   "cell_type": "code",
   "execution_count": 4,
   "metadata": {},
   "outputs": [
    {
     "name": "stdout",
     "output_type": "stream",
     "text": [
      "Connecting main follower arm.\n",
      "Connecting main leader arm.\n",
      "Activating torque on main follower arm.\n",
      "[  1.40625   135.8789    171.73828    22.41211    -6.2402344  40.253906 ]\n",
      "[  0.        128.67188   175.69336    -2.109375   -1.3183594  28.03711  ]\n"
     ]
    }
   ],
   "source": [
    "from lerobot.common.robot_devices.robots.manipulator import ManipulatorRobot\n",
    "\n",
    "robot = ManipulatorRobot(\n",
    "    robot_type=\"koch\",\n",
    "    leader_arms={\"main\": leader_arm},\n",
    "    follower_arms={\"main\": follower_arm},\n",
    "    calibration_dir=\"../.cache/calibration/koch\",\n",
    ")\n",
    "robot.connect()\n"
   ]
  },
  {
   "cell_type": "code",
   "execution_count": 15,
   "metadata": {},
   "outputs": [
    {
     "name": "stdout",
     "output_type": "stream",
     "text": [
      "['-1.05', '126.39', '175.69', '-2.81', '-1.23', '29.27']\n",
      "['0.00', '128.67', '175.78', '-2.11', '-1.32', '28.04']\n"
     ]
    }
   ],
   "source": [
    "leader_pos = robot.leader_arms[\"main\"].read(\"Present_Position\")\n",
    "follower_pos = robot.follower_arms[\"main\"].read(\"Present_Position\")\n",
    "\n",
    "\n",
    "print([f\"{x:.2f}\" for x in leader_pos])\n",
    "print([f\"{x:.2f}\" for x in follower_pos])"
   ]
  },
  {
   "cell_type": "code",
   "execution_count": null,
   "metadata": {},
   "outputs": [],
   "source": []
  },
  {
   "cell_type": "code",
   "execution_count": 10,
   "metadata": {},
   "outputs": [
    {
     "data": {
      "text/plain": [
       "array([ 8.7890625e-02,  1.3587891e+02,  1.7165039e+02,  2.2412109e+01,\n",
       "       -5.9765625e+00,  4.0253906e+01], dtype=float32)"
      ]
     },
     "execution_count": 10,
     "metadata": {},
     "output_type": "execute_result"
    }
   ],
   "source": [
    "leader_pos"
   ]
  },
  {
   "cell_type": "code",
   "execution_count": null,
   "metadata": {},
   "outputs": [],
   "source": [
    "array([-0.43945312, 133.94531, 179.82422, -18.984375, -1.9335938, 34.541016], dtype=float32)\n",
    "array([-0.58723712, 131.72314, 174.98743, -16.872612, 0.786213, 35.271973], dtype=float32)"
   ]
  },
  {
   "cell_type": "markdown",
   "metadata": {},
   "source": [
    "## Tele-op"
   ]
  },
  {
   "cell_type": "code",
   "execution_count": 3,
   "metadata": {},
   "outputs": [
    {
     "name": "stdout",
     "output_type": "stream",
     "text": [
      "Connecting main follower arm.\n",
      "Connecting main leader arm.\n",
      "Activating torque on main follower arm.\n"
     ]
    }
   ],
   "source": [
    "from lerobot.common.robot_devices.robots.manipulator import ManipulatorRobot\n",
    "\n",
    "robot = ManipulatorRobot(\n",
    "    robot_type=\"koch\",\n",
    "    leader_arms={\"main\": leader_arm},\n",
    "    follower_arms={\"main\": follower_arm},\n",
    "    calibration_dir=\"../.cache/calibration/koch\",\n",
    ")\n",
    "robot.connect()\n"
   ]
  },
  {
   "cell_type": "code",
   "execution_count": 4,
   "metadata": {},
   "outputs": [
    {
     "name": "stdout",
     "output_type": "stream",
     "text": [
      "[  0.       135.43945  177.71484    6.591797  -5.888672  18.632812]\n",
      "[ -0.87890625 172.35352    174.99023     -1.0546875   -3.7792969\n",
      "  24.169922  ]\n"
     ]
    }
   ],
   "source": [
    "leader_pos = robot.leader_arms[\"main\"].read(\"Present_Position\")\n",
    "follower_pos = robot.follower_arms[\"main\"].read(\"Present_Position\")\n",
    "print(leader_pos)\n",
    "print(follower_pos)\n"
   ]
  },
  {
   "cell_type": "code",
   "execution_count": 5,
   "metadata": {},
   "outputs": [],
   "source": [
    "robot.disconnect()"
   ]
  },
  {
   "cell_type": "markdown",
   "metadata": {},
   "source": [
    "## Read and write with DynamixelMotorsBus"
   ]
  },
  {
   "cell_type": "code",
   "execution_count": 5,
   "metadata": {},
   "outputs": [],
   "source": [
    "leader_arm.connect()"
   ]
  },
  {
   "cell_type": "code",
   "execution_count": 6,
   "metadata": {},
   "outputs": [],
   "source": [
    "leader_arm.write(\"Torque_Enable\", TorqueMode.ENABLED.value)"
   ]
  },
  {
   "cell_type": "code",
   "execution_count": 6,
   "metadata": {},
   "outputs": [],
   "source": [
    "leader_arm.write(\"Torque_Enable\", TorqueMode.DISABLED.value)"
   ]
  },
  {
   "cell_type": "code",
   "execution_count": 12,
   "metadata": {},
   "outputs": [
    {
     "name": "stdout",
     "output_type": "stream",
     "text": [
      "Curr pos: [2062 1274 2400 1971 2171 1914]\n",
      "Next pos: [2062 1284 2400 1971 2171 1914]\n",
      "delta pos: [ 0  4 -1  0  0  0]\n"
     ]
    }
   ],
   "source": [
    "leader_pos = leader_arm.read(\"Present_Position\")\n",
    "print(f\"Curr pos: {leader_pos}\")\n",
    "\n",
    "leader_pos_new = copy.copy(leader_pos)\n",
    "leader_pos_new[1] += 10\n",
    "\n",
    "print(f\"Next pos: {leader_pos_new}\")\n",
    "leader_arm.write(\"Goal_Position\", leader_pos_new)\n",
    "time.sleep(1)\n",
    "\n",
    "leader_pos_read = leader_arm.read(\"Present_Position\")\n",
    "delta_pos = leader_pos_read - leader_pos\n",
    "print(f\"delta pos: {delta_pos}\")"
   ]
  },
  {
   "cell_type": "code",
   "execution_count": 3,
   "metadata": {},
   "outputs": [],
   "source": [
    "follower_arm.connect()"
   ]
  },
  {
   "cell_type": "code",
   "execution_count": 18,
   "metadata": {},
   "outputs": [],
   "source": [
    "follower_arm.write(\"Torque_Enable\", TorqueMode.DISABLED.value)"
   ]
  },
  {
   "cell_type": "code",
   "execution_count": 19,
   "metadata": {},
   "outputs": [],
   "source": [
    "follower_arm.write(\"Torque_Enable\", TorqueMode.ENABLED.value)\n"
   ]
  },
  {
   "cell_type": "code",
   "execution_count": 26,
   "metadata": {},
   "outputs": [
    {
     "name": "stdout",
     "output_type": "stream",
     "text": [
      "Curr pos: [2195 1305 1531 1046  655 2190]\n",
      "Next pos: [2195 1305 1531 1056  655 2190]\n",
      "delta pos: [  0   0 -46   0   0   0]\n"
     ]
    }
   ],
   "source": [
    "follower_pos = follower_arm.read(\"Present_Position\")\n",
    "print(f\"Curr pos: {follower_pos}\")\n",
    "\n",
    "follower_pos_new = copy.copy(follower_pos)\n",
    "follower_pos_new[3] += 10\n",
    "\n",
    "print(f\"Next pos: {follower_pos_new}\")\n",
    "follower_arm.write(\"Goal_Position\", follower_pos_new)\n",
    "time.sleep(1)\n",
    "\n",
    "follower_pos_read = follower_arm.read(\"Present_Position\")\n",
    "delta_pos = follower_pos_read - follower_pos\n",
    "print(f\"delta pos: {delta_pos}\")"
   ]
  },
  {
   "cell_type": "code",
   "execution_count": 28,
   "metadata": {},
   "outputs": [
    {
     "name": "stdout",
     "output_type": "stream",
     "text": [
      "Curr pos: [2195 1305 1485 1046  655 2190]\n"
     ]
    }
   ],
   "source": [
    "# For some reason, the 3rd motor is always moving even though we only set the first motor to move\n",
    "follower_pos = follower_arm.read(\"Present_Position\")\n",
    "print(f\"Curr pos: {follower_pos}\")\n"
   ]
  },
  {
   "cell_type": "code",
   "execution_count": 14,
   "metadata": {},
   "outputs": [],
   "source": [
    "follower_arm.write(\"Torque_Enable\", TorqueMode.ENABLED.value)"
   ]
  },
  {
   "cell_type": "code",
   "execution_count": 40,
   "metadata": {},
   "outputs": [
    {
     "name": "stdout",
     "output_type": "stream",
     "text": [
      "[1990 1111 1190  709 2108 1989]\n"
     ]
    }
   ],
   "source": [
    "# Get the current position\n",
    "position = follower_arm.read(\"Present_Position\")\n",
    "print(position)\n",
    "# Update first motor (shoulder_pan) position by +10 steps\n",
    "position[0] -= 10\n",
    "follower_arm.write(\"Goal_Position\", position)\n"
   ]
  },
  {
   "cell_type": "code",
   "execution_count": 42,
   "metadata": {},
   "outputs": [],
   "source": [
    "follower_arm.write(\"Torque_Enable\", TorqueMode.DISABLED.value)\n",
    "leader_arm.disconnect()\n",
    "follower_arm.disconnect()"
   ]
  }
 ],
 "metadata": {
  "kernelspec": {
   "display_name": ".venv",
   "language": "python",
   "name": "python3"
  },
  "language_info": {
   "codemirror_mode": {
    "name": "ipython",
    "version": 3
   },
   "file_extension": ".py",
   "mimetype": "text/x-python",
   "name": "python",
   "nbconvert_exporter": "python",
   "pygments_lexer": "ipython3",
   "version": "3.10.14"
  }
 },
 "nbformat": 4,
 "nbformat_minor": 2
}
